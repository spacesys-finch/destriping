{
 "cells": [
  {
   "cell_type": "code",
   "execution_count": 5,
   "metadata": {
    "executionInfo": {
     "elapsed": 290,
     "status": "ok",
     "timestamp": 1664397531889,
     "user": {
      "displayName": "Punyaphat Sukcharoenchaikul",
      "userId": "05777821768464563273"
     },
     "user_tz": 240
    },
    "id": "vHDBOYAdosWZ"
   },
   "outputs": [],
   "source": [
    "\"\"\"\n",
    "apply_stripes.py\n",
    "\n",
    "Contains fucntions to add stripes to any dataset that have absolutely no stripes\n",
    "  \n",
    "Author(s): Amreen Imrit, Kyoka Stone\n",
    "\"\"\"\n",
    "\n",
    "# stdlib\n",
    "import copy\n",
    "import math\n",
    "import random\n",
    "\n",
    "# external\n",
    "import matplotlib.pyplot as plt  # for plotting purposes\n",
    "import numpy as np"
   ]
  },
  {
   "cell_type": "markdown",
   "metadata": {
    "id": "SSI9rdpyouQD"
   },
   "source": [
    "Plan (for basic stripe fucntion)\n",
    "\n",
    "*   Go through data cube frame by frame (ie in a 400x200x103 set, go through each of the 103 frames)\n",
    "*   Generate random number from 50 to 150 to represent the amount of stripes we want, called num_stripes\n",
    "*   randomly choose which column will have stripes --> create an array with that store num_stripes of value, where each value is between 0 to 200 and are non repeating\n",
    "*   randomly choose the factor that we want to multiply the columns by. Have an array of length num_stripes, where each value are between 0.5 to 2, the values can be repeating for this one\n",
    "*   Do multiplication and return the striped data **cube**\n",
    "\n",
    "**the 50 to 150, and 0 to 200 in point 2 and 3 are problematic cuz it's very specific to 1 data set. We need to make this more flexible, i.e we should avoid to have random numerical constant like these\n",
    "\n",
    "\n",
    "\n",
    "\n",
    "\n",
    "\n",
    "\n"
   ]
  },
  {
   "cell_type": "code",
   "execution_count": 6,
   "metadata": {
    "executionInfo": {
     "elapsed": 49,
     "status": "ok",
     "timestamp": 1664397532140,
     "user": {
      "displayName": "Punyaphat Sukcharoenchaikul",
      "userId": "05777821768464563273"
     },
     "user_tz": 240
    },
    "id": "7WoTx_iTr1Jt"
   },
   "outputs": [],
   "source": [
    "def add_basic_stripes(data_cube, num_stripes=0):\n",
    "    \"\"\"\n",
    "    Add stripes to original data set which has no stripes. Stripes are added randomly and have no specific patterns\n",
    "\n",
    "    Args:\n",
    "    data_cube: orginal data cube\n",
    "    num_stripes: optional variable, if number is given, the code will generate that amount of stripes on each frame. If number not given, the code will randomly choose the number of stripes for each frame\n",
    "\n",
    "    Returns:\n",
    "    striped_data: data cube with stripes added to it\n",
    "    \"\"\"\n",
    "\n",
    "    cube_dim = data_cube.shape  # cube dimesion\n",
    "\n",
    "    striped_data = copy.deepcopy(\n",
    "        data_cube\n",
    "    )  # copying original data cube to not affect changes we make to it here\n",
    "\n",
    "    if (\n",
    "        num_stripes == 0\n",
    "    ):  # random number of stripes for the frame, orignally 25%-75%  are striped changed to 25% to 60% of col are striped\n",
    "        num_stripes = np.random.randint(\n",
    "            low=int(0.25 * cube_dim[1]), high=int(0.6 * cube_dim[1]), size=cube_dim[2]\n",
    "        )\n",
    "\n",
    "    for i in range(0, cube_dim[2], 1):  # going through each frame\n",
    "        col_stripes = random.sample(\n",
    "            range(0, cube_dim[1]), num_stripes[i]\n",
    "        )  # create a list of non repeating int numbers for size of data cube\n",
    "        multiplier = (\n",
    "            np.random.randint(low=5, high=16, size=num_stripes[i]) / 10\n",
    "        )  # create list of repeating random number, this include number 1, we may want to prevent that\n",
    "\n",
    "        for k in range(\n",
    "            0, len(col_stripes), 1\n",
    "        ):  # go through each column that we will add stripes to and do the multiplier\n",
    "            striped_data[:, col_stripes[k], i] *= multiplier[k]\n",
    "\n",
    "    return striped_data"
   ]
  },
  {
   "cell_type": "code",
   "execution_count": 9,
   "metadata": {
    "colab": {
     "base_uri": "https://localhost:8080/",
     "height": 490
    },
    "executionInfo": {
     "elapsed": 65,
     "status": "error",
     "timestamp": 1664397552127,
     "user": {
      "displayName": "Punyaphat Sukcharoenchaikul",
      "userId": "05777821768464563273"
     },
     "user_tz": 240
    },
    "id": "wLY95Rq4t1mP",
    "outputId": "92eab1f5-c206-4e97-feb7-d429005f0344"
   },
   "outputs": [
    {
     "name": "stdout",
     "output_type": "stream",
     "text": [
      "fatal: destination path 'Science' already exists and is not an empty directory.\n",
      "[Errno 2] No such file or directory: '/content/drive/Shareddrives/Space Systems Division/Teams/FINCH/Payload System/Science/Projects/SC-4: Data Processing/Destriping/Noise Functions'\n",
      "/content\n"
     ]
    },
    {
     "ename": "FileNotFoundError",
     "evalue": "ignored",
     "output_type": "error",
     "traceback": [
      "\u001b[0;31m---------------------------------------------------------------------------\u001b[0m",
      "\u001b[0;31mFileNotFoundError\u001b[0m                         Traceback (most recent call last)",
      "\u001b[0;32m<ipython-input-9-fa7dcea3a17f>\u001b[0m in \u001b[0;36m<module>\u001b[0;34m\u001b[0m\n\u001b[1;32m      3\u001b[0m \u001b[0mget_ipython\u001b[0m\u001b[0;34m(\u001b[0m\u001b[0;34m)\u001b[0m\u001b[0;34m.\u001b[0m\u001b[0mrun_line_magic\u001b[0m\u001b[0;34m(\u001b[0m\u001b[0;34m'cd'\u001b[0m\u001b[0;34m,\u001b[0m \u001b[0;34m'/content/drive/Shareddrives/Space Systems Division/Teams/FINCH/Payload System/Science/Projects/SC-4: Data Processing/Destriping/Noise Functions'\u001b[0m\u001b[0;34m)\u001b[0m\u001b[0;34m\u001b[0m\u001b[0;34m\u001b[0m\u001b[0m\n\u001b[1;32m      4\u001b[0m \u001b[0mget_ipython\u001b[0m\u001b[0;34m(\u001b[0m\u001b[0;34m)\u001b[0m\u001b[0;34m.\u001b[0m\u001b[0mrun_line_magic\u001b[0m\u001b[0;34m(\u001b[0m\u001b[0;34m'pwd'\u001b[0m\u001b[0;34m,\u001b[0m \u001b[0;34m''\u001b[0m\u001b[0;34m)\u001b[0m\u001b[0;34m\u001b[0m\u001b[0;34m\u001b[0m\u001b[0m\n\u001b[0;32m----> 5\u001b[0;31m \u001b[0mdata\u001b[0m \u001b[0;34m=\u001b[0m \u001b[0mnp\u001b[0m\u001b[0;34m.\u001b[0m\u001b[0mload\u001b[0m\u001b[0;34m(\u001b[0m\u001b[0;34m'/content/drive/Shareddrives/Space Systems Division/Teams/FINCH/Payload System/Science/Projects/SC-4: Data Processing/Destriping/Datasets/indian_pine_array.npy'\u001b[0m\u001b[0;34m)\u001b[0m\u001b[0;34m\u001b[0m\u001b[0;34m\u001b[0m\u001b[0m\n\u001b[0m\u001b[1;32m      6\u001b[0m \u001b[0;34m\u001b[0m\u001b[0m\n\u001b[1;32m      7\u001b[0m \u001b[0;31m#wave = np.loadtxt('/content/drive/Shared drives/Space Systems Division/FINCH Mission/Payload System/Science/Projects/SC-4: Data Processing/Destriping/Colab Notebooks/Files for colab notebook/wavelength.txt')[20:]\u001b[0m\u001b[0;34m\u001b[0m\u001b[0;34m\u001b[0m\u001b[0;34m\u001b[0m\u001b[0m\n",
      "\u001b[0;32m/usr/local/lib/python3.7/dist-packages/numpy/lib/npyio.py\u001b[0m in \u001b[0;36mload\u001b[0;34m(file, mmap_mode, allow_pickle, fix_imports, encoding)\u001b[0m\n\u001b[1;32m    415\u001b[0m             \u001b[0mown_fid\u001b[0m \u001b[0;34m=\u001b[0m \u001b[0;32mFalse\u001b[0m\u001b[0;34m\u001b[0m\u001b[0;34m\u001b[0m\u001b[0m\n\u001b[1;32m    416\u001b[0m         \u001b[0;32melse\u001b[0m\u001b[0;34m:\u001b[0m\u001b[0;34m\u001b[0m\u001b[0;34m\u001b[0m\u001b[0m\n\u001b[0;32m--> 417\u001b[0;31m             \u001b[0mfid\u001b[0m \u001b[0;34m=\u001b[0m \u001b[0mstack\u001b[0m\u001b[0;34m.\u001b[0m\u001b[0menter_context\u001b[0m\u001b[0;34m(\u001b[0m\u001b[0mopen\u001b[0m\u001b[0;34m(\u001b[0m\u001b[0mos_fspath\u001b[0m\u001b[0;34m(\u001b[0m\u001b[0mfile\u001b[0m\u001b[0;34m)\u001b[0m\u001b[0;34m,\u001b[0m \u001b[0;34m\"rb\"\u001b[0m\u001b[0;34m)\u001b[0m\u001b[0;34m)\u001b[0m\u001b[0;34m\u001b[0m\u001b[0;34m\u001b[0m\u001b[0m\n\u001b[0m\u001b[1;32m    418\u001b[0m             \u001b[0mown_fid\u001b[0m \u001b[0;34m=\u001b[0m \u001b[0;32mTrue\u001b[0m\u001b[0;34m\u001b[0m\u001b[0;34m\u001b[0m\u001b[0m\n\u001b[1;32m    419\u001b[0m \u001b[0;34m\u001b[0m\u001b[0m\n",
      "\u001b[0;31mFileNotFoundError\u001b[0m: [Errno 2] No such file or directory: '/content/drive/Shareddrives/Space Systems Division/Teams/FINCH/Payload System/Science/Projects/SC-4: Data Processing/Destriping/Datasets/indian_pine_array.npy'"
     ]
    }
   ],
   "source": [
    "# data set to test\n",
    "\"\"\"\n",
    "!git clone https://github.com/spacesys-finch/Science #if says error uncomment this line\n",
    "%cd /content/drive/Shareddrives/Space Systems Division/Teams/FINCH/Payload System/Science/Projects/SC-4: Data Processing/Destriping/Noise Functions\n",
    "%pwd\n",
    "data = np.load('/content/drive/Shareddrives/Space Systems Division/Teams/FINCH/Payload System/Science/Projects/SC-4: Data Processing/Destriping/Datasets/indian_pine_array.npy')\n",
    "\n",
    "#wave = np.loadtxt('/content/drive/Shared drives/Space Systems Division/FINCH Mission/Payload System/Science/Projects/SC-4: Data Processing/Destriping/Colab Notebooks/Files for colab notebook/wavelength.txt')[20:]\n",
    "\n",
    "#changing from callibrated value to radiance\n",
    "radiance_data = (data-1000)/500.\n",
    "\"\"\""
   ]
  },
  {
   "cell_type": "code",
   "execution_count": null,
   "metadata": {
    "executionInfo": {
     "elapsed": 43,
     "status": "aborted",
     "timestamp": 1664397532360,
     "user": {
      "displayName": "Punyaphat Sukcharoenchaikul",
      "userId": "05777821768464563273"
     },
     "user_tz": 240
    },
    "id": "vudCSvg-tYbV"
   },
   "outputs": [],
   "source": [
    "\"\"\"\n",
    "#used for testing\n",
    "if __name__ == \"__main__\":\n",
    "  #used for testing\n",
    "  print (\"Testing of the program will be done here\")\n",
    "  striped_data = add_basic_stripes(radiance_data)\n",
    "\n",
    "  fig, axes = plt.subplots(2,2, figsize=(14,7))\n",
    "  axes[0, 0].pcolormesh(radiance_data[:, :, 113], cmap = 'inferno', vmin = 0, vmax=4)\n",
    "  axes[0, 1].pcolormesh(striped_data[:, :, 113], cmap='inferno', vmin = 0, vmax=4)\n",
    "\n",
    "  axes[1, 0].pcolormesh(radiance_data[:, :, 50], cmap = 'inferno')\n",
    "  axes[1, 1].pcolormesh(striped_data[:, :, 50], cmap='inferno')\n",
    "  plt.show()\n",
    " \"\"\""
   ]
  }
 ],
 "metadata": {
  "colab": {
   "collapsed_sections": [],
   "provenance": []
  },
  "kernelspec": {
   "display_name": "Python 3.10.5 64-bit",
   "language": "python",
   "name": "python3"
  },
  "language_info": {
   "name": "python",
   "version": "3.10.5"
  },
  "vscode": {
   "interpreter": {
    "hash": "26de051ba29f2982a8de78e945f0abaf191376122a1563185a90213a26c5da77"
   }
  }
 },
 "nbformat": 4,
 "nbformat_minor": 0
}
